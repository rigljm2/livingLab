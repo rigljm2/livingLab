{
 "cells": [
  {
   "cell_type": "code",
   "execution_count": 1,
   "id": "6bb83a28-2f15-4719-acc8-abd931b49031",
   "metadata": {},
   "outputs": [
    {
     "name": "stdout",
     "output_type": "stream",
     "text": [
      "Collecting pandas\n",
      "  Downloading pandas-2.2.2-cp311-cp311-win_amd64.whl.metadata (19 kB)\n",
      "Collecting numpy>=1.23.2 (from pandas)\n",
      "  Downloading numpy-2.1.1-cp311-cp311-win_amd64.whl.metadata (59 kB)\n",
      "Requirement already satisfied: python-dateutil>=2.8.2 in c:\\users\\jij09\\anaconda3\\envs\\livinglab\\lib\\site-packages (from pandas) (2.9.0.post0)\n",
      "Requirement already satisfied: pytz>=2020.1 in c:\\users\\jij09\\anaconda3\\envs\\livinglab\\lib\\site-packages (from pandas) (2024.1)\n",
      "Collecting tzdata>=2022.7 (from pandas)\n",
      "  Using cached tzdata-2024.1-py2.py3-none-any.whl.metadata (1.4 kB)\n",
      "Requirement already satisfied: six>=1.5 in c:\\users\\jij09\\anaconda3\\envs\\livinglab\\lib\\site-packages (from python-dateutil>=2.8.2->pandas) (1.16.0)\n",
      "Downloading pandas-2.2.2-cp311-cp311-win_amd64.whl (11.6 MB)\n",
      "   ---------------------------------------- 0.0/11.6 MB ? eta -:--:--\n",
      "    --------------------------------------- 0.3/11.6 MB ? eta -:--:--\n",
      "   -- ------------------------------------- 0.8/11.6 MB 2.8 MB/s eta 0:00:04\n",
      "   ------- -------------------------------- 2.1/11.6 MB 3.7 MB/s eta 0:00:03\n",
      "   ---------- ----------------------------- 3.1/11.6 MB 4.2 MB/s eta 0:00:03\n",
      "   ---------------- ----------------------- 4.7/11.6 MB 4.9 MB/s eta 0:00:02\n",
      "   --------------------- ------------------ 6.3/11.6 MB 5.3 MB/s eta 0:00:02\n",
      "   ------------------------- -------------- 7.3/11.6 MB 5.3 MB/s eta 0:00:01\n",
      "   ----------------------------- ---------- 8.7/11.6 MB 5.4 MB/s eta 0:00:01\n",
      "   ----------------------------------- ---- 10.2/11.6 MB 5.5 MB/s eta 0:00:01\n",
      "   ---------------------------------------- 11.6/11.6 MB 5.6 MB/s eta 0:00:00\n",
      "Downloading numpy-2.1.1-cp311-cp311-win_amd64.whl (12.9 MB)\n",
      "   ---------------------------------------- 0.0/12.9 MB ? eta -:--:--\n",
      "   --- ------------------------------------ 1.0/12.9 MB 6.3 MB/s eta 0:00:02\n",
      "   ------- -------------------------------- 2.4/12.9 MB 6.4 MB/s eta 0:00:02\n",
      "   ---------- ----------------------------- 3.4/12.9 MB 5.4 MB/s eta 0:00:02\n",
      "   ------------- -------------------------- 4.5/12.9 MB 5.7 MB/s eta 0:00:02\n",
      "   ----------------- ---------------------- 5.8/12.9 MB 5.6 MB/s eta 0:00:02\n",
      "   ----------------------- ---------------- 7.6/12.9 MB 6.1 MB/s eta 0:00:01\n",
      "   ---------------------------- ----------- 9.2/12.9 MB 6.2 MB/s eta 0:00:01\n",
      "   -------------------------------- ------- 10.5/12.9 MB 6.2 MB/s eta 0:00:01\n",
      "   ----------------------------------- ---- 11.5/12.9 MB 6.2 MB/s eta 0:00:01\n",
      "   -------------------------------------- - 12.3/12.9 MB 6.0 MB/s eta 0:00:01\n",
      "   ---------------------------------------  12.6/12.9 MB 5.7 MB/s eta 0:00:01\n",
      "   ---------------------------------------- 12.9/12.9 MB 5.3 MB/s eta 0:00:00\n",
      "Using cached tzdata-2024.1-py2.py3-none-any.whl (345 kB)\n",
      "Installing collected packages: tzdata, numpy, pandas\n",
      "Successfully installed numpy-2.1.1 pandas-2.2.2 tzdata-2024.1\n"
     ]
    }
   ],
   "source": [
    "!pip install pandas\n",
    "!pip install openpyxl"
   ]
  },
  {
   "cell_type": "code",
   "execution_count": 35,
   "id": "353f7109-fb4f-48e0-a454-550085624656",
   "metadata": {},
   "outputs": [
    {
     "name": "stdout",
     "output_type": "stream",
     "text": [
      "엑셀 파일 읽기 성공\n"
     ]
    }
   ],
   "source": [
    "import openpyxl\n",
    "import pandas as pd\n",
    "\n",
    "# 엑셀 파일 경로\n",
    "file_path = './CleanNetAddress.xlsx'\n",
    "\n",
    "# 엑셀 파일에서 데이터 읽기\n",
    "try:\n",
    "    df = pd.read_excel(file_path, engine='openpyxl')\n",
    "    print(\"엑셀 파일 읽기 성공\")\n",
    "except Exception as e:\n",
    "    print(f\"엑셀 파일 읽기 실패: {e}\")"
   ]
  },
  {
   "cell_type": "code",
   "execution_count": 36,
   "id": "d79a5e59-403b-49d6-bf39-f5ec2ee38e9d",
   "metadata": {},
   "outputs": [
    {
     "name": "stdout",
     "output_type": "stream",
     "text": [
      "엑셀 파일의 열 이름: Index(['Address'], dtype='object')\n",
      "추출된 주소 리스트: ['도안북로 158 공원 주차장', '도안북로 117번길 46 앞\\n네거리변', '도안북로117번길 18 와\\n도안북로117번길 24 사이', '대전 서구 도안동 896', '대전 서구 도안동 962', '대전 서구 도안동 922', '대전 서구 도안동 948', '동서대로 700 과\\n대전 서구 도안동 857 사이', '대전 서구 도안동 877', '도안북로93번길 10-15 와\\n도안북로93번길 10-11 사이', '도안북로93번길 20-11 과\\n도안북로93번길 20-17 사이', '대전 서구 도안동 846 가운데\\n(파스쿠찌와 올리브영 사이)', '대전 서구 동서대로 688\\n(카카오공인중개사 앞 도로변)', '대전 유성구 용계동 664-6 가운데', '대전 유성구 용계동 665-5 가운데', '도안북로 73 과\\n동서대로656번길 31-10 사이', '동서대로656번길 34-5 앞 도로변', '동서대로656번길 50 앞 도로변', '동서대로656번길 62 앞 도로변', '동서대로656번길 16-45 와\\n동서대로656번길 34-16 사이', '도안대로 332 와\\n모델하우스 사이', '대전 유성구 용계동 671-2 부지\\n(도안북로 50-15 옆)', '대전 유성구 용계동 671-2 부지\\n(도안북로 54-53 옆)', '대전 서구 도안동 1046', '대전 서구 도안동 1019 와\\n원도안로241번길 14-31 사이', '원도안로241번길 24-19 와\\n원도안로241번길 24-27 사이', '원도안로 257번길 48 뒤 산 밑', '원도안로241번길 11 과\\n원도안로241번길 9 사이', '원도안로241번길 24-3 과\\n공터 사이', '원도안로241번길 23-18 과\\n원도안로241번길 23-14 사이', '원도안로242번길 15-3 앞 공원변', '원도안로224번안길 21 과\\n원도안로 234 사이', '원도안로224번길 23-12 앞 공원변', '원도안로207번길 8-50 과\\n원도안로207번길 8-46 사이', '원도안로207번길 16-43 과\\n원도안로207번길 16-47 사이', '원도안로207번길 16-10 앞 산 밑', '원도안로224번안길 5 앞 도로변', '대전 서구 도안동 1053 과\\n원도안로224번길 47-40 사이', '원도안로224번길 47-24 와\\n원도안로224번길 47-20 사이', '원도안로 224번길 47-4 옆 공터', '원도안로257번길 62 앞 대도로변', '원도안로257번길 38 앞 대도로변', '대전 서구 도안동 1129', '대전 서구 도안동 1159', '원도안로207번길 29 앞 산 밑', '원도안로207번길 7-14 와\\n원도안로207번길 7-10 사이', '원도안로207번길 15-26 앞 공원변']\n",
      "Geocoding failed for address 동서대로 700 과\n",
      "대전 서구 도안동 857 사이\n",
      "Geocoding failed for address 도안북로93번길 10-15 와\n",
      "도안북로93번길 10-11 사이\n",
      "Geocoding failed for address 도안북로93번길 20-11 과\n",
      "도안북로93번길 20-17 사이\n",
      "Geocoding failed for address 도안북로 73 과\n",
      "동서대로656번길 31-10 사이\n",
      "Geocoding failed for address 동서대로656번길 16-45 와\n",
      "동서대로656번길 34-16 사이\n",
      "Geocoding failed for address 대전 서구 도안동 1019 와\n",
      "원도안로241번길 14-31 사이\n",
      "Geocoding failed for address 원도안로241번길 24-19 와\n",
      "원도안로241번길 24-27 사이\n",
      "Geocoding failed for address 원도안로241번길 11 과\n",
      "원도안로241번길 9 사이\n",
      "Geocoding failed for address 원도안로241번길 23-18 과\n",
      "원도안로241번길 23-14 사이\n",
      "Geocoding failed for address 원도안로224번안길 21 과\n",
      "원도안로 234 사이\n",
      "Geocoding failed for address 원도안로207번길 8-50 과\n",
      "원도안로207번길 8-46 사이\n",
      "Geocoding failed for address 원도안로207번길 16-43 과\n",
      "원도안로207번길 16-47 사이\n",
      "Geocoding failed for address 대전 서구 도안동 1053 과\n",
      "원도안로224번길 47-40 사이\n",
      "Geocoding failed for address 원도안로224번길 47-24 와\n",
      "원도안로224번길 47-20 사이\n",
      "Geocoding failed for address 원도안로207번길 7-14 와\n",
      "원도안로207번길 7-10 사이\n"
     ]
    }
   ],
   "source": [
    "import requests\n",
    "\n",
    "# 엑셀 파일의 열 이름 확인\n",
    "print(\"엑셀 파일의 열 이름:\", df.columns)\n",
    "\n",
    "# # 데이터 확인 (앞부분 5개 행 출력)\n",
    "# print(\"엑셀 파일의 데이터 (앞부분 5개 행):\")\n",
    "# print(df.head())\n",
    "\n",
    "# 주소 리스트 추출 (열 이름을 정확히 확인 후 수정하세요)\n",
    "addresses = df['Address'].tolist()  # 'Address' 열 이름을 실제 엑셀 파일의 주소 열 이름으로 수정\n",
    "print(\"추출된 주소 리스트:\", addresses)\n",
    "\n",
    "def geocode_address(address, api_key):\n",
    "    base_url = \"https://dapi.kakao.com/v2/local/search/address.json\"\n",
    "    headers = {\"Authorization\": f\"KakaoAK {api_key}\"}\n",
    "    params = {\"query\": address}\n",
    "    response = requests.get(base_url, headers=headers, params=params)\n",
    "    response_json = response.json()\n",
    "    if response_json['documents']:\n",
    "        location = response_json['documents'][0]['address']\n",
    "        return (address, location['y'], location['x'])  # 위도, 경도\n",
    "    else:\n",
    "        print(f\"Geocoding failed for address {address}\")\n",
    "        return (address, None, None)\n",
    "\n",
    "api_key = 'cac3864be84e85e6bc9f0497ec5ad86d'  # 여기에 실제 API 키를 입력하세요\n",
    "\n",
    "# 각 주소를 지리적 좌표로 변환\n",
    "coordinates = [geocode_address(address, api_key) for address in addresses if address is not None]"
   ]
  },
  {
   "cell_type": "code",
   "execution_count": 39,
   "id": "e36d0f06-49a0-4677-9924-e807e9c017b4",
   "metadata": {},
   "outputs": [
    {
     "name": "stdout",
     "output_type": "stream",
     "text": [
      "지리적 좌표: [('도안북로 158 공원 주차장', '36.3317391043375', '127.344830399223'), ('도안북로 117번길 46 앞\\n네거리변', '36.3316653798501', '127.341095936769'), ('도안북로117번길 18 와\\n도안북로117번길 24 사이', '36.3309804675651', '127.341795622727'), ('대전 서구 도안동 896', '36.3302687680241', '127.341209799864'), ('대전 서구 도안동 962', '36.3299894059564', '127.341208581748'), ('대전 서구 도안동 922', '36.3290685598943', '127.341783707999'), ('대전 서구 도안동 948', '36.3281330632071', '127.341178213471'), ('동서대로 700 과\\n대전 서구 도안동 857 사이', None, None), ('대전 서구 도안동 877', '36.3303633575541', '127.339639822247'), ('도안북로93번길 10-15 와\\n도안북로93번길 10-11 사이', None, None), ('도안북로93번길 20-11 과\\n도안북로93번길 20-17 사이', None, None), ('대전 서구 도안동 846 가운데\\n(파스쿠찌와 올리브영 사이)', '36.3309339691769', '127.33862877734'), ('대전 서구 동서대로 688\\n(카카오공인중개사 앞 도로변)', '36.3318269660257', '127.339416515096'), ('대전 유성구 용계동 664-6 가운데', '36.3309367419624', '127.337648680487'), ('대전 유성구 용계동 665-5 가운데', '36.3309395067112', '127.3366685835'), ('도안북로 73 과\\n동서대로656번길 31-10 사이', None, None), ('동서대로656번길 34-5 앞 도로변', '36.3304670097003', '127.335646352477'), ('동서대로656번길 50 앞 도로변', '36.3299501448166', '127.335627986191'), ('동서대로656번길 62 앞 도로변', '36.3291562206251', '127.33562268777'), ('동서대로656번길 16-45 와\\n동서대로656번길 34-16 사이', None, None), ('도안대로 332 와\\n모델하우스 사이', '36.3312295101532', '127.333549397711'), ('대전 유성구 용계동 671-2 부지\\n(도안북로 50-15 옆)', '36.3294391943224', '127.334528539239'), ('대전 유성구 용계동 671-2 부지\\n(도안북로 54-53 옆)', '36.3294391943224', '127.334528539239'), ('대전 서구 도안동 1046', '36.3255589161457', '127.346323345649'), ('대전 서구 도안동 1019 와\\n원도안로241번길 14-31 사이', None, None), ('원도안로241번길 24-19 와\\n원도안로241번길 24-27 사이', None, None), ('원도안로 257번길 48 뒤 산 밑', '36.3267388192882', '127.347383129368'), ('원도안로241번길 11 과\\n원도안로241번길 9 사이', None, None), ('원도안로241번길 24-3 과\\n공터 사이', '36.3257325441275', '127.344774865724'), ('원도안로241번길 23-18 과\\n원도안로241번길 23-14 사이', None, None), ('원도안로242번길 15-3 앞 공원변', '36.324640112044', '127.346403250796'), ('원도안로224번안길 21 과\\n원도안로 234 사이', None, None), ('원도안로224번길 23-12 앞 공원변', '36.3238883651144', '127.346117276977'), ('원도안로207번길 8-50 과\\n원도안로207번길 8-46 사이', None, None), ('원도안로207번길 16-43 과\\n원도안로207번길 16-47 사이', None, None), ('원도안로207번길 16-10 앞 산 밑', '36.3227955417018', '127.343699400831'), ('원도안로224번안길 5 앞 도로변', '36.3237084657875', '127.34506574614'), ('대전 서구 도안동 1053 과\\n원도안로224번길 47-40 사이', None, None), ('원도안로224번길 47-24 와\\n원도안로224번길 47-20 사이', None, None), ('원도안로 224번길 47-4 옆 공터', '36.3235500545158', '127.34748657845'), ('원도안로257번길 62 앞 대도로변', '36.32605515458', '127.347424419711'), ('원도안로257번길 38 앞 대도로변', '36.3269174446124', '127.347441166545'), ('대전 서구 도안동 1129', '36.323140467875', '127.344341486262'), ('대전 서구 도안동 1159', '36.3226282442504', '127.343838094164'), ('원도안로207번길 29 앞 산 밑', '36.322046391951', '127.34269450953'), ('원도안로207번길 7-14 와\\n원도안로207번길 7-10 사이', None, None), ('원도안로207번길 15-26 앞 공원변', '36.3212840122793', '127.343064903592')]\n",
      "47\n",
      "                                  address          latitude         longitude\n",
      "0                         도안북로 158 공원 주차장  36.3317391043375  127.344830399223\n",
      "1                   도안북로 117번길 46 앞\\n네거리변  36.3316653798501  127.341095936769\n",
      "2         도안북로117번길 18 와\\n도안북로117번길 24 사이  36.3309804675651  127.341795622727\n",
      "3                           대전 서구 도안동 896  36.3302687680241  127.341209799864\n",
      "4                           대전 서구 도안동 962  36.3299894059564  127.341208581748\n",
      "5                           대전 서구 도안동 922  36.3290685598943  127.341783707999\n",
      "6                           대전 서구 도안동 948  36.3281330632071  127.341178213471\n",
      "7            동서대로 700 과\\n대전 서구 도안동 857 사이              None              None\n",
      "8                           대전 서구 도안동 877  36.3303633575541  127.339639822247\n",
      "9     도안북로93번길 10-15 와\\n도안북로93번길 10-11 사이              None              None\n",
      "10    도안북로93번길 20-11 과\\n도안북로93번길 20-17 사이              None              None\n",
      "11     대전 서구 도안동 846 가운데\\n(파스쿠찌와 올리브영 사이)  36.3309339691769   127.33862877734\n",
      "12       대전 서구 동서대로 688\\n(카카오공인중개사 앞 도로변)  36.3318269660257  127.339416515096\n",
      "13                   대전 유성구 용계동 664-6 가운데  36.3309367419624  127.337648680487\n",
      "14                   대전 유성구 용계동 665-5 가운데  36.3309395067112    127.3366685835\n",
      "15          도안북로 73 과\\n동서대로656번길 31-10 사이              None              None\n",
      "16                   동서대로656번길 34-5 앞 도로변  36.3304670097003  127.335646352477\n",
      "17                     동서대로656번길 50 앞 도로변  36.3299501448166  127.335627986191\n",
      "18                     동서대로656번길 62 앞 도로변  36.3291562206251   127.33562268777\n",
      "19  동서대로656번길 16-45 와\\n동서대로656번길 34-16 사이              None              None\n",
      "20                   도안대로 332 와\\n모델하우스 사이  36.3312295101532  127.333549397711\n",
      "21    대전 유성구 용계동 671-2 부지\\n(도안북로 50-15 옆)  36.3294391943224  127.334528539239\n",
      "22    대전 유성구 용계동 671-2 부지\\n(도안북로 54-53 옆)  36.3294391943224  127.334528539239\n",
      "23                         대전 서구 도안동 1046  36.3255589161457  127.346323345649\n",
      "24   대전 서구 도안동 1019 와\\n원도안로241번길 14-31 사이              None              None\n",
      "25  원도안로241번길 24-19 와\\n원도안로241번길 24-27 사이              None              None\n",
      "26                    원도안로 257번길 48 뒤 산 밑  36.3267388192882  127.347383129368\n",
      "27         원도안로241번길 11 과\\n원도안로241번길 9 사이              None              None\n",
      "28                원도안로241번길 24-3 과\\n공터 사이  36.3257325441275  127.344774865724\n",
      "29  원도안로241번길 23-18 과\\n원도안로241번길 23-14 사이              None              None\n",
      "30                   원도안로242번길 15-3 앞 공원변   36.324640112044  127.346403250796\n",
      "31           원도안로224번안길 21 과\\n원도안로 234 사이              None              None\n",
      "32                  원도안로224번길 23-12 앞 공원변  36.3238883651144  127.346117276977\n",
      "33    원도안로207번길 8-50 과\\n원도안로207번길 8-46 사이              None              None\n",
      "34  원도안로207번길 16-43 과\\n원도안로207번길 16-47 사이              None              None\n",
      "35                  원도안로207번길 16-10 앞 산 밑  36.3227955417018  127.343699400831\n",
      "36                     원도안로224번안길 5 앞 도로변  36.3237084657875   127.34506574614\n",
      "37   대전 서구 도안동 1053 과\\n원도안로224번길 47-40 사이              None              None\n",
      "38  원도안로224번길 47-24 와\\n원도안로224번길 47-20 사이              None              None\n",
      "39                   원도안로 224번길 47-4 옆 공터  36.3235500545158   127.34748657845\n",
      "40                    원도안로257번길 62 앞 대도로변    36.32605515458  127.347424419711\n",
      "41                    원도안로257번길 38 앞 대도로변  36.3269174446124  127.347441166545\n",
      "42                         대전 서구 도안동 1129   36.323140467875  127.344341486262\n",
      "43                         대전 서구 도안동 1159  36.3226282442504  127.343838094164\n",
      "44                     원도안로207번길 29 앞 산 밑   36.322046391951   127.34269450953\n",
      "45    원도안로207번길 7-14 와\\n원도안로207번길 7-10 사이              None              None\n",
      "46                  원도안로207번길 15-26 앞 공원변  36.3212840122793  127.343064903592\n"
     ]
    },
    {
     "ename": "ValueError",
     "evalue": "Sheet 'Sheet1' already exists and if_sheet_exists is set to 'error'.",
     "output_type": "error",
     "traceback": [
      "\u001b[1;31m---------------------------------------------------------------------------\u001b[0m",
      "\u001b[1;31mValueError\u001b[0m                                Traceback (most recent call last)",
      "Cell \u001b[1;32mIn[39], line 8\u001b[0m\n\u001b[0;32m      6\u001b[0m \u001b[38;5;28mprint\u001b[39m(coord_df)\n\u001b[0;32m      7\u001b[0m \u001b[38;5;28;01mwith\u001b[39;00m pd\u001b[38;5;241m.\u001b[39mExcelWriter(file_path, mode\u001b[38;5;241m=\u001b[39m\u001b[38;5;124m'\u001b[39m\u001b[38;5;124ma\u001b[39m\u001b[38;5;124m'\u001b[39m, engine\u001b[38;5;241m=\u001b[39m\u001b[38;5;124m'\u001b[39m\u001b[38;5;124mopenpyxl\u001b[39m\u001b[38;5;124m'\u001b[39m) \u001b[38;5;28;01mas\u001b[39;00m writer:\n\u001b[1;32m----> 8\u001b[0m     coord_df\u001b[38;5;241m.\u001b[39mto_excel(writer, index\u001b[38;5;241m=\u001b[39m\u001b[38;5;28;01mFalse\u001b[39;00m, startcol\u001b[38;5;241m=\u001b[39m\u001b[38;5;241m0\u001b[39m, startrow\u001b[38;5;241m=\u001b[39m\u001b[38;5;241m0\u001b[39m)\n",
      "File \u001b[1;32m~\\anaconda3\\envs\\livingLab\\Lib\\site-packages\\pandas\\util\\_decorators.py:333\u001b[0m, in \u001b[0;36mdeprecate_nonkeyword_arguments.<locals>.decorate.<locals>.wrapper\u001b[1;34m(*args, **kwargs)\u001b[0m\n\u001b[0;32m    327\u001b[0m \u001b[38;5;28;01mif\u001b[39;00m \u001b[38;5;28mlen\u001b[39m(args) \u001b[38;5;241m>\u001b[39m num_allow_args:\n\u001b[0;32m    328\u001b[0m     warnings\u001b[38;5;241m.\u001b[39mwarn(\n\u001b[0;32m    329\u001b[0m         msg\u001b[38;5;241m.\u001b[39mformat(arguments\u001b[38;5;241m=\u001b[39m_format_argument_list(allow_args)),\n\u001b[0;32m    330\u001b[0m         \u001b[38;5;167;01mFutureWarning\u001b[39;00m,\n\u001b[0;32m    331\u001b[0m         stacklevel\u001b[38;5;241m=\u001b[39mfind_stack_level(),\n\u001b[0;32m    332\u001b[0m     )\n\u001b[1;32m--> 333\u001b[0m \u001b[38;5;28;01mreturn\u001b[39;00m func(\u001b[38;5;241m*\u001b[39margs, \u001b[38;5;241m*\u001b[39m\u001b[38;5;241m*\u001b[39mkwargs)\n",
      "File \u001b[1;32m~\\anaconda3\\envs\\livingLab\\Lib\\site-packages\\pandas\\core\\generic.py:2417\u001b[0m, in \u001b[0;36mNDFrame.to_excel\u001b[1;34m(self, excel_writer, sheet_name, na_rep, float_format, columns, header, index, index_label, startrow, startcol, engine, merge_cells, inf_rep, freeze_panes, storage_options, engine_kwargs)\u001b[0m\n\u001b[0;32m   2404\u001b[0m \u001b[38;5;28;01mfrom\u001b[39;00m \u001b[38;5;21;01mpandas\u001b[39;00m\u001b[38;5;21;01m.\u001b[39;00m\u001b[38;5;21;01mio\u001b[39;00m\u001b[38;5;21;01m.\u001b[39;00m\u001b[38;5;21;01mformats\u001b[39;00m\u001b[38;5;21;01m.\u001b[39;00m\u001b[38;5;21;01mexcel\u001b[39;00m \u001b[38;5;28;01mimport\u001b[39;00m ExcelFormatter\n\u001b[0;32m   2406\u001b[0m formatter \u001b[38;5;241m=\u001b[39m ExcelFormatter(\n\u001b[0;32m   2407\u001b[0m     df,\n\u001b[0;32m   2408\u001b[0m     na_rep\u001b[38;5;241m=\u001b[39mna_rep,\n\u001b[1;32m   (...)\u001b[0m\n\u001b[0;32m   2415\u001b[0m     inf_rep\u001b[38;5;241m=\u001b[39minf_rep,\n\u001b[0;32m   2416\u001b[0m )\n\u001b[1;32m-> 2417\u001b[0m formatter\u001b[38;5;241m.\u001b[39mwrite(\n\u001b[0;32m   2418\u001b[0m     excel_writer,\n\u001b[0;32m   2419\u001b[0m     sheet_name\u001b[38;5;241m=\u001b[39msheet_name,\n\u001b[0;32m   2420\u001b[0m     startrow\u001b[38;5;241m=\u001b[39mstartrow,\n\u001b[0;32m   2421\u001b[0m     startcol\u001b[38;5;241m=\u001b[39mstartcol,\n\u001b[0;32m   2422\u001b[0m     freeze_panes\u001b[38;5;241m=\u001b[39mfreeze_panes,\n\u001b[0;32m   2423\u001b[0m     engine\u001b[38;5;241m=\u001b[39mengine,\n\u001b[0;32m   2424\u001b[0m     storage_options\u001b[38;5;241m=\u001b[39mstorage_options,\n\u001b[0;32m   2425\u001b[0m     engine_kwargs\u001b[38;5;241m=\u001b[39mengine_kwargs,\n\u001b[0;32m   2426\u001b[0m )\n",
      "File \u001b[1;32m~\\anaconda3\\envs\\livingLab\\Lib\\site-packages\\pandas\\io\\formats\\excel.py:952\u001b[0m, in \u001b[0;36mExcelFormatter.write\u001b[1;34m(self, writer, sheet_name, startrow, startcol, freeze_panes, engine, storage_options, engine_kwargs)\u001b[0m\n\u001b[0;32m    949\u001b[0m     need_save \u001b[38;5;241m=\u001b[39m \u001b[38;5;28;01mTrue\u001b[39;00m\n\u001b[0;32m    951\u001b[0m \u001b[38;5;28;01mtry\u001b[39;00m:\n\u001b[1;32m--> 952\u001b[0m     writer\u001b[38;5;241m.\u001b[39m_write_cells(\n\u001b[0;32m    953\u001b[0m         formatted_cells,\n\u001b[0;32m    954\u001b[0m         sheet_name,\n\u001b[0;32m    955\u001b[0m         startrow\u001b[38;5;241m=\u001b[39mstartrow,\n\u001b[0;32m    956\u001b[0m         startcol\u001b[38;5;241m=\u001b[39mstartcol,\n\u001b[0;32m    957\u001b[0m         freeze_panes\u001b[38;5;241m=\u001b[39mfreeze_panes,\n\u001b[0;32m    958\u001b[0m     )\n\u001b[0;32m    959\u001b[0m \u001b[38;5;28;01mfinally\u001b[39;00m:\n\u001b[0;32m    960\u001b[0m     \u001b[38;5;66;03m# make sure to close opened file handles\u001b[39;00m\n\u001b[0;32m    961\u001b[0m     \u001b[38;5;28;01mif\u001b[39;00m need_save:\n",
      "File \u001b[1;32m~\\anaconda3\\envs\\livingLab\\Lib\\site-packages\\pandas\\io\\excel\\_openpyxl.py:463\u001b[0m, in \u001b[0;36mOpenpyxlWriter._write_cells\u001b[1;34m(self, cells, sheet_name, startrow, startcol, freeze_panes)\u001b[0m\n\u001b[0;32m    461\u001b[0m     wks \u001b[38;5;241m=\u001b[39m \u001b[38;5;28mself\u001b[39m\u001b[38;5;241m.\u001b[39mbook\u001b[38;5;241m.\u001b[39mcreate_sheet(sheet_name, target_index)\n\u001b[0;32m    462\u001b[0m \u001b[38;5;28;01melif\u001b[39;00m \u001b[38;5;28mself\u001b[39m\u001b[38;5;241m.\u001b[39m_if_sheet_exists \u001b[38;5;241m==\u001b[39m \u001b[38;5;124m\"\u001b[39m\u001b[38;5;124merror\u001b[39m\u001b[38;5;124m\"\u001b[39m:\n\u001b[1;32m--> 463\u001b[0m     \u001b[38;5;28;01mraise\u001b[39;00m \u001b[38;5;167;01mValueError\u001b[39;00m(\n\u001b[0;32m    464\u001b[0m         \u001b[38;5;124mf\u001b[39m\u001b[38;5;124m\"\u001b[39m\u001b[38;5;124mSheet \u001b[39m\u001b[38;5;124m'\u001b[39m\u001b[38;5;132;01m{\u001b[39;00msheet_name\u001b[38;5;132;01m}\u001b[39;00m\u001b[38;5;124m'\u001b[39m\u001b[38;5;124m already exists and \u001b[39m\u001b[38;5;124m\"\u001b[39m\n\u001b[0;32m    465\u001b[0m         \u001b[38;5;124mf\u001b[39m\u001b[38;5;124m\"\u001b[39m\u001b[38;5;124mif_sheet_exists is set to \u001b[39m\u001b[38;5;124m'\u001b[39m\u001b[38;5;124merror\u001b[39m\u001b[38;5;124m'\u001b[39m\u001b[38;5;124m.\u001b[39m\u001b[38;5;124m\"\u001b[39m\n\u001b[0;32m    466\u001b[0m     )\n\u001b[0;32m    467\u001b[0m \u001b[38;5;28;01melif\u001b[39;00m \u001b[38;5;28mself\u001b[39m\u001b[38;5;241m.\u001b[39m_if_sheet_exists \u001b[38;5;241m==\u001b[39m \u001b[38;5;124m\"\u001b[39m\u001b[38;5;124moverlay\u001b[39m\u001b[38;5;124m\"\u001b[39m:\n\u001b[0;32m    468\u001b[0m     wks \u001b[38;5;241m=\u001b[39m \u001b[38;5;28mself\u001b[39m\u001b[38;5;241m.\u001b[39msheets[sheet_name]\n",
      "\u001b[1;31mValueError\u001b[0m: Sheet 'Sheet1' already exists and if_sheet_exists is set to 'error'."
     ]
    }
   ],
   "source": [
    "print(\"지리적 좌표:\", coordinates)\n",
    "print(len(coordinates))\n",
    "\n",
    "coord_df = pd.DataFrame(coordinates)\n",
    "coord_df.columns=['address', 'latitude', 'longitude']\n",
    "print(coord_df)\n",
    "with pd.ExcelWriter(file_path, mode='a', engine='openpyxl') as writer:\n",
    "    coord_df.to_excel(writer, index=False, startcol=0, startrow=0)"
   ]
  },
  {
   "cell_type": "code",
   "execution_count": null,
   "id": "c67eda80-d5a5-4f7b-b937-e8ecdf71c955",
   "metadata": {},
   "outputs": [],
   "source": []
  }
 ],
 "metadata": {
  "kernelspec": {
   "display_name": "livingLab",
   "language": "python",
   "name": "livinglab"
  },
  "language_info": {
   "codemirror_mode": {
    "name": "ipython",
    "version": 3
   },
   "file_extension": ".py",
   "mimetype": "text/x-python",
   "name": "python",
   "nbconvert_exporter": "python",
   "pygments_lexer": "ipython3",
   "version": "3.11.9"
  }
 },
 "nbformat": 4,
 "nbformat_minor": 5
}
